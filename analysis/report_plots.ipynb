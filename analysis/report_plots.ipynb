{
 "cells": [
  {
   "attachments": {},
   "cell_type": "markdown",
   "metadata": {},
   "source": [
    "# Report Plots\n",
    "This notebook contains plots exclusively made for the report."
   ]
  },
  {
   "cell_type": "code",
   "execution_count": null,
   "metadata": {},
   "outputs": [],
   "source": [
    "import pathlib\n",
    "import matplotlib.pyplot as plt\n",
    "import matplotlib as mpl\n",
    "import torch\n",
    "import matplotlib.ticker as plticker\n",
    "\n",
    "import figures as mf\n",
    "\n",
    "%load_ext autoreload\n",
    "%autoreload 2"
   ]
  },
  {
   "cell_type": "code",
   "execution_count": null,
   "metadata": {},
   "outputs": [],
   "source": [
    "experiments = {\n",
    "    \"ADAM\" : mf.MNIST_LENET_300_100_Experiment(pathlib.Path('../open_lth_data/experiment_ADAM/replicate_1')),\n",
    "    \"Momentum\" : mf.MNIST_LENET_300_100_Experiment(pathlib.Path('../open_lth_data/experiment_Momentum/replicate_1')),\n",
    "    \"SGD\" : mf.MNIST_LENET_300_100_Experiment(pathlib.Path('../open_lth_data/experiment_SGD/replicate_1')),\n",
    "    }\n",
    "\n",
    "experiment = experiments[\"Momentum\"]"
   ]
  },
  {
   "cell_type": "code",
   "execution_count": null,
   "metadata": {},
   "outputs": [],
   "source": [
    "levels = range(experiment.num_levels)\n",
    "\n",
    "sparsity = [1 - experiment.get_sparsity(level) for level in levels]\n",
    "metrics = [experiment.get_metrics(level) for level in levels]\n",
    "indices, losses, accuracies = list(map(list, zip(*metrics)))\n",
    "\n",
    "after_training_accuracies = [l[-1] for l in accuracies]\n",
    "\n",
    "\n",
    "fig, ax = plt.subplots()\n",
    "ax.plot(sparsity, marker=\"o\", label=\"ratio of weights remaining\")\n",
    "ax.plot(after_training_accuracies, marker=\"o\", label=\"accuracy after training\")\n",
    "\n",
    "for i, txt in enumerate(sparsity):\n",
    "    ax.annotate(round(txt, 2), (i+.01, sparsity[i]+.01))\n",
    "\n",
    "\n",
    "\n",
    "ax.set_title(\"Percentage of weights remaining of MNIST_300_100\")\n",
    "ax.legend()\n",
    "ax.set_xlabel(\"Pruning levels\")\n",
    "ax.set_ylabel(\"accuracy / weights remaining\")\n"
   ]
  },
  {
   "cell_type": "code",
   "execution_count": null,
   "metadata": {},
   "outputs": [],
   "source": [
    "levels= [1,8,10]\n",
    "\n",
    "fig, ax_generator, axs = mf.plotgrid(9, 3, (4,3))\n",
    "\n",
    "# colormap\n",
    "cmap = mpl.colormaps.get_cmap(\"turbo\").copy().reversed()\n",
    "cmap.set_bad(color=\"k\", alpha=1)\n",
    "\n",
    "for name, experiment in experiments.items():\n",
    "    # populate grid with plots\n",
    "    for level, ax in zip(levels, ax_generator):\n",
    "\n",
    "        if level == levels[0]:\n",
    "            ax.set_ylabel(name, rotation=90, size='medium')\n",
    "\n",
    "        im = mf.find_dead_features(\n",
    "            experiment.weights(level=level, layer=0),\n",
    "            (28,28), \n",
    "            ax,\n",
    "            title=mf.std_label(level, experiment),\n",
    "            cmap=cmap\n",
    "        )\n",
    "fig.tight_layout()\n",
    "fig.colorbar(\n",
    "        im,\n",
    "        ax=axs,\n",
    "        shrink=1.0,\n",
    "        location=\"right\"\n",
    ")"
   ]
  },
  {
   "cell_type": "code",
   "execution_count": null,
   "metadata": {},
   "outputs": [],
   "source": [
    "loc = plticker.MultipleLocator(base=1.0) # this locator puts ticks at regular intervals\n",
    "experiment = experiments[\"Momentum\"]\n",
    "\n",
    "level=10\n",
    "X = experiment.weights(level=level, layer=0)\n",
    "Y = experiment.weights(level=level, layer=1)\n",
    "\n",
    "weights_in_per_neuron = torch.count_nonzero(X, dim=1)\n",
    "weights_out_per_neuron = torch.count_nonzero(Y, dim=0)\n",
    "idc = torch.argsort(weights_in_per_neuron)\n",
    "k = len(idc)\n",
    "fig, ax = plt.subplots(figsize=(8,6))\n",
    "\n",
    "ax.bar(torch.arange(k),\n",
    "       weights_out_per_neuron[idc][:k], \n",
    "       bottom=-weights_out_per_neuron[idc][:k],\n",
    "       label=\"number of out weights to neuron\"\n",
    ")\n",
    "print((weights_in_per_neuron[idc][:k] == 0).sum().item())\n",
    "ax.bar(torch.arange(k),weights_in_per_neuron[idc][:k], label=\"number of input weights to neuron\")\n",
    "ax.set_xlabel(\"Neurons in first layer sorted\")\n",
    "ax.set_ylabel(\"Number of input/output weights per neuron\")\n",
    "# ax.xaxis.set_ticks(torch.arange(max(Y), max(X)+1, 1))\n",
    "ax.yaxis.set_major_locator(loc)\n",
    "ax.legend()"
   ]
  },
  {
   "cell_type": "code",
   "execution_count": null,
   "metadata": {},
   "outputs": [],
   "source": []
  }
 ],
 "metadata": {
  "kernelspec": {
   "display_name": "torch-gpu",
   "language": "python",
   "name": "python3"
  },
  "language_info": {
   "codemirror_mode": {
    "name": "ipython",
    "version": 3
   },
   "file_extension": ".py",
   "mimetype": "text/x-python",
   "name": "python",
   "nbconvert_exporter": "python",
   "pygments_lexer": "ipython3",
   "version": "3.9.15"
  },
  "orig_nbformat": 4
 },
 "nbformat": 4,
 "nbformat_minor": 2
}
